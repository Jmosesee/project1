{
 "cells": [
  {
   "cell_type": "code",
   "execution_count": 11,
   "metadata": {},
   "outputs": [
    {
     "name": "stdout",
     "output_type": "stream",
     "text": [
      "/contact/\n",
      "/tiobe-index/\n",
      "/\n",
      "/documentation/\n",
      "/tqi/definition/\n",
      "/tqi/definition/\n",
      "/tqi/tqi-demo/\n",
      "/tqi/awards/\n",
      "/tqi/changes/\n",
      "/markets/customers/\n",
      "/markets/customers/\n",
      "/markets/distributors/\n",
      "/tics/fact-sheet/\n",
      "/tics/fact-sheet/\n",
      "/products/quality-assessment/\n",
      "/tics/fact-sheet/\n",
      "/tics/fact-sheet/\n",
      "/tics/tics-framework/\n",
      "/tics/documentation/\n",
      "/company/about/\n",
      "/company/about/\n",
      "/company/management-team/\n",
      "/company/careers\n",
      "/\n",
      "/\n",
      "\n",
      "/news/\n",
      "https://www.linkedin.com/feed/update/urn:li:activity:6399621535434366976\n",
      "http://portal.tiobe.com/9.1/docs/#doc=ReleaseNotes.html%239.1.0\n",
      "/tqi/awards/\n",
      "./rss.xml\n",
      "./programming-languages-definition/\n",
      "mailto:tpci@tiobe.com\n",
      "./programming-languages-definition/#instances\n",
      "mailto:tpci@tiobe.com\n",
      "mailto:tpci@tiobe.com\n",
      "mailto:sales@tiobe.com\n",
      "/\n",
      "/documentation/\n",
      "/tqi/definition/\n",
      "/markets/customers/\n",
      "/tics/fact-sheet/\n",
      "/tics/fact-sheet/\n",
      "/company/about/\n",
      "/\n",
      "mailto:info@tiobe.com\n",
      "/privacy-statement/\n"
     ]
    },
    {
     "ename": "AttributeError",
     "evalue": "'NoneType' object has no attribute 'text'",
     "output_type": "error",
     "traceback": [
      "\u001b[0;31m---------------------------------------------------------------------------\u001b[0m",
      "\u001b[0;31mAttributeError\u001b[0m                            Traceback (most recent call last)",
      "\u001b[0;32m<ipython-input-11-0e1c421afd09>\u001b[0m in \u001b[0;36m<module>\u001b[0;34m()\u001b[0m\n\u001b[1;32m     24\u001b[0m \u001b[0;34m\u001b[0m\u001b[0m\n\u001b[1;32m     25\u001b[0m \u001b[0mspan\u001b[0m \u001b[0;34m=\u001b[0m \u001b[0msoup\u001b[0m\u001b[0;34m.\u001b[0m\u001b[0mfind\u001b[0m\u001b[0;34m(\u001b[0m\u001b[0;34m\"span\"\u001b[0m\u001b[0;34m,\u001b[0m \u001b[0mid\u001b[0m\u001b[0;34m=\u001b[0m\u001b[0;34m\"count_text\"\u001b[0m\u001b[0;34m)\u001b[0m\u001b[0;34m\u001b[0m\u001b[0m\n\u001b[0;32m---> 26\u001b[0;31m \u001b[0mspan\u001b[0m\u001b[0;34m.\u001b[0m\u001b[0mtext\u001b[0m\u001b[0;34m\u001b[0m\u001b[0m\n\u001b[0m\u001b[1;32m     27\u001b[0m \u001b[0mlinks\u001b[0m \u001b[0;34m=\u001b[0m \u001b[0msoup\u001b[0m\u001b[0;34m.\u001b[0m\u001b[0mfind_all\u001b[0m\u001b[0;34m(\u001b[0m\u001b[0;34m\"a\"\u001b[0m\u001b[0;34m)\u001b[0m\u001b[0;34m\u001b[0m\u001b[0m\n",
      "\u001b[0;31mAttributeError\u001b[0m: 'NoneType' object has no attribute 'text'"
     ]
    }
   ],
   "source": [
    "from bs4 import BeautifulSoup\n",
    "import requests\n",
    "import pandas as pd\n",
    "\n",
    "url = 'https://www.tiobe.com/tiobe-index/'\n",
    "\n",
    "r  = requests.get(url)\n",
    "\n",
    "data = r.text\n",
    "\n",
    "soup = BeautifulSoup(data, 'lxml')\n",
    "\n",
    "headers = {'User-Agent': 'Mozilla/5.0 (Macintosh; Intel Mac OS X 10_10_1) AppleWebKit/537.36 (KHTML, like Gecko) Chrome/39.0.2171.95 Safari/537.36'}\n",
    "\n",
    "\n",
    "start = url\n",
    "\n",
    "test = requests.get(start, headers=headers)\n",
    "\n",
    "for link in soup.find_all('a'):\n",
    "    print(link.get('href'))\n",
    "    \n",
    "soup = BeautifulSoup(test.text, \"html.parser\")\n",
    "\n",
    "span = soup.find(\"span\", id=\"#get id here\")\n",
    "span.text\n",
    "links = soup.find_all(\"a\")"
   ]
  },
  {
   "cell_type": "code",
   "execution_count": 10,
   "metadata": {},
   "outputs": [
    {
     "ename": "AttributeError",
     "evalue": "'NoneType' object has no attribute 'text'",
     "output_type": "error",
     "traceback": [
      "\u001b[0;31m---------------------------------------------------------------------------\u001b[0m",
      "\u001b[0;31mAttributeError\u001b[0m                            Traceback (most recent call last)",
      "\u001b[0;32m<ipython-input-10-0b4eaad6addc>\u001b[0m in \u001b[0;36m<module>\u001b[0;34m()\u001b[0m\n\u001b[1;32m      1\u001b[0m \u001b[0mspan\u001b[0m \u001b[0;34m=\u001b[0m \u001b[0msoup\u001b[0m\u001b[0;34m.\u001b[0m\u001b[0mfind\u001b[0m\u001b[0;34m(\u001b[0m\u001b[0;34m\"span\"\u001b[0m\u001b[0;34m,\u001b[0m \u001b[0mid\u001b[0m\u001b[0;34m=\u001b[0m\u001b[0;34m\"count_text\"\u001b[0m\u001b[0;34m)\u001b[0m\u001b[0;34m\u001b[0m\u001b[0m\n\u001b[0;32m----> 2\u001b[0;31m \u001b[0mspan\u001b[0m\u001b[0;34m.\u001b[0m\u001b[0mtext\u001b[0m\u001b[0;34m\u001b[0m\u001b[0m\n\u001b[0m",
      "\u001b[0;31mAttributeError\u001b[0m: 'NoneType' object has no attribute 'text'"
     ]
    }
   ],
   "source": []
  },
  {
   "cell_type": "code",
   "execution_count": null,
   "metadata": {},
   "outputs": [],
   "source": []
  }
 ],
 "metadata": {
  "kernelspec": {
   "display_name": "Python 3",
   "language": "python",
   "name": "python3"
  },
  "language_info": {
   "codemirror_mode": {
    "name": "ipython",
    "version": 3
   },
   "file_extension": ".py",
   "mimetype": "text/x-python",
   "name": "python",
   "nbconvert_exporter": "python",
   "pygments_lexer": "ipython3",
   "version": "3.6.5"
  }
 },
 "nbformat": 4,
 "nbformat_minor": 2
}
