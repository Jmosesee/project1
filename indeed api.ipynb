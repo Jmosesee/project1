{
 "cells": [
  {
   "cell_type": "code",
   "execution_count": 3,
   "metadata": {},
   "outputs": [
    {
     "name": "stdout",
     "output_type": "stream",
     "text": [
      "Status code: 401\n"
     ]
    }
   ],
   "source": [
    "import requests\n",
    "import json\n",
    "url = 'https://indeed-indeed.p.mashape.com/apigetjobs'\n",
    "r = requests.get(url)\n",
    "print('Status code:', r.status_code)\n",
    "response_dict = r.json()\n",
    "# print('Total repositories:', response_dict['total_count'])\n",
    "# repo_dicts = response_dict['items']\n",
    "# print('Repositories returned:', len(repo_dicts))\n",
    "# repo_dict = repo_dicts[0]\n",
    "# print('\\nKeys:', len(repo_dict))\n",
    "# for key in sorted(repo_dict.keys()):\n",
    "#     print(key)"
   ]
  },
  {
   "cell_type": "code",
   "execution_count": null,
   "metadata": {},
   "outputs": [],
   "source": []
  }
 ],
 "metadata": {
  "kernelspec": {
   "display_name": "Python 3",
   "language": "python",
   "name": "python3"
  },
  "language_info": {
   "codemirror_mode": {
    "name": "ipython",
    "version": 3
   },
   "file_extension": ".py",
   "mimetype": "text/x-python",
   "name": "python",
   "nbconvert_exporter": "python",
   "pygments_lexer": "ipython3",
   "version": "3.6.5"
  }
 },
 "nbformat": 4,
 "nbformat_minor": 2
}
